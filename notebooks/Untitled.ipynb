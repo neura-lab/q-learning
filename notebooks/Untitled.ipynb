{
 "cells": [
  {
   "cell_type": "code",
   "execution_count": 7,
   "metadata": {
    "collapsed": false
   },
   "outputs": [
    {
     "name": "stdout",
     "output_type": "stream",
     "text": [
      "[1, 2, 3, 5]\n"
     ]
    }
   ],
   "source": [
    "a = 1 #int\n",
    "b = 2.4 #float\n",
    "c = \"naty\" #string\n",
    "d = [1, 2, 3] #list\n",
    "e = (4, 5, 6) #tuple\n",
    "\n",
    "d.append(5)\n",
    "\n",
    "print(d)"
   ]
  },
  {
   "cell_type": "code",
   "execution_count": 15,
   "metadata": {
    "collapsed": false
   },
   "outputs": [
    {
     "name": "stdout",
     "output_type": "stream",
     "text": [
      "4\n",
      "5\n",
      "(20, 9)\n"
     ]
    }
   ],
   "source": [
    "a = input()\n",
    "b = input()\n",
    "\n",
    "\n",
    "print(a*b, a+b)\n"
   ]
  },
  {
   "cell_type": "code",
   "execution_count": 14,
   "metadata": {
    "collapsed": false
   },
   "outputs": [
    {
     "name": "stdout",
     "output_type": "stream",
     "text": [
      "(72, 17)\n"
     ]
    }
   ],
   "source": [
    "print(a*b, a+b)"
   ]
  },
  {
   "cell_type": "code",
   "execution_count": 27,
   "metadata": {
    "collapsed": false
   },
   "outputs": [
    {
     "name": "stdout",
     "output_type": "stream",
     "text": [
      "\"Alfredo\"\n",
      "Hola Alfredo!!!\n"
     ]
    }
   ],
   "source": [
    "nombre = input()\n",
    "saludo = \"Hola\"\n",
    "exclamacion = \"!!!\"\n",
    "\n",
    "frase = saludo + \" \" + nombre + exclamacion\n",
    "\n",
    "print(frase)"
   ]
  },
  {
   "cell_type": "code",
   "execution_count": 31,
   "metadata": {
    "collapsed": false
   },
   "outputs": [
    {
     "name": "stdout",
     "output_type": "stream",
     "text": [
      "['hola', 'naty', 'como', 'estas?']\n"
     ]
    }
   ],
   "source": [
    "frase = \"hola naty como estas?\"\n",
    "palabras = frase.split(\" \")\n",
    "print(palabras)"
   ]
  },
  {
   "cell_type": "code",
   "execution_count": 32,
   "metadata": {
    "collapsed": false
   },
   "outputs": [
    {
     "name": "stdout",
     "output_type": "stream",
     "text": [
      "\"gatito casa espacio pie zapato\"\n",
      "5\n"
     ]
    }
   ],
   "source": [
    "texto= input()\n",
    "palabras=  texto.split(\" \")\n",
    "longitud= len(palabras)\n",
    "print(longitud)"
   ]
  },
  {
   "cell_type": "code",
   "execution_count": 46,
   "metadata": {
    "collapsed": false
   },
   "outputs": [
    {
     "name": "stdout",
     "output_type": "stream",
     "text": [
      "9\n"
     ]
    }
   ],
   "source": [
    "archivo = open(\"palabras.txt\")\n",
    "texto= archivo.read()\n",
    "palabras=  texto.split(\"\\n\")\n",
    "longitud= len(palabras)\n",
    "print(longitud)"
   ]
  }
 ],
 "metadata": {
  "kernelspec": {
   "display_name": "Python 2",
   "language": "python",
   "name": "python2"
  },
  "language_info": {
   "codemirror_mode": {
    "name": "ipython",
    "version": 2
   },
   "file_extension": ".py",
   "mimetype": "text/x-python",
   "name": "python",
   "nbconvert_exporter": "python",
   "pygments_lexer": "ipython2",
   "version": "2.7.6"
  }
 },
 "nbformat": 4,
 "nbformat_minor": 2
}
